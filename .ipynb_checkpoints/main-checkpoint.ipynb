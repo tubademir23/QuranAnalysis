{
 "cells": [
  {
   "cell_type": "markdown",
   "metadata": {},
   "source": [
    "HOLLY QURAN ANALYSIS WITH TURKISH AND ARABIC WORDS"
   ]
  },
  {
   "cell_type": "code",
   "execution_count": 1,
   "metadata": {},
   "outputs": [],
   "source": [
    "import numpy as np \n",
    "import matplotlib.pyplot as plt\n",
    "import seaborn as sns\n",
    "import pandas as pd \n",
    "import os"
   ]
  },
  {
   "cell_type": "code",
   "execution_count": 2,
   "metadata": {
    "tags": []
   },
   "outputs": [
    {
     "name": "stdout",
     "output_type": "stream",
     "text": [
      "<class 'pandas.core.frame.DataFrame'>\n",
      "Int64Index: 77649 entries, 1 to 77649\n",
      "Data columns (total 11 columns):\n",
      " #   Column                   Non-Null Count  Dtype  \n",
      "---  ------                   --------------  -----  \n",
      " 0   Unnamed: 1               0 non-null      float64\n",
      " 1   SURAH                    77649 non-null  int64  \n",
      " 2   VERSE                    77649 non-null  int64  \n",
      " 3   LAST_TEXT                77649 non-null  object \n",
      " 4   LAST_TEXT_WITHOUT_SIGNS  77649 non-null  object \n",
      " 5   BRX_ROOT                 77649 non-null  object \n",
      " 6   MEANING_GROUP            77649 non-null  object \n",
      " 7   MEANING                  71982 non-null  object \n",
      " 8   LAST_ROOT                47266 non-null  object \n",
      " 9   ROOT                     49908 non-null  object \n",
      " 10  ABAY_TEXT                77649 non-null  object \n",
      "dtypes: float64(1), int64(2), object(8)\n",
      "memory usage: 4.7+ MB\n"
     ]
    }
   ],
   "source": [
    "df=pd.read_excel(\"./QURAN.xlsx\",index_col=0)\n",
    "df.head()\n",
    "df.info()"
   ]
  },
  {
   "cell_type": "code",
   "execution_count": 3,
   "metadata": {
    "tags": []
   },
   "outputs": [
    {
     "data": {
      "text/html": [
       "<div>\n",
       "<style scoped>\n",
       "    .dataframe tbody tr th:only-of-type {\n",
       "        vertical-align: middle;\n",
       "    }\n",
       "\n",
       "    .dataframe tbody tr th {\n",
       "        vertical-align: top;\n",
       "    }\n",
       "\n",
       "    .dataframe thead th {\n",
       "        text-align: right;\n",
       "    }\n",
       "</style>\n",
       "<table border=\"1\" class=\"dataframe\">\n",
       "  <thead>\n",
       "    <tr style=\"text-align: right;\">\n",
       "      <th></th>\n",
       "      <th>Unnamed: 1</th>\n",
       "      <th>SURAH</th>\n",
       "      <th>VERSE</th>\n",
       "    </tr>\n",
       "  </thead>\n",
       "  <tbody>\n",
       "    <tr>\n",
       "      <th>count</th>\n",
       "      <td>0.0</td>\n",
       "      <td>77649.000000</td>\n",
       "      <td>77649.000000</td>\n",
       "    </tr>\n",
       "    <tr>\n",
       "      <th>mean</th>\n",
       "      <td>NaN</td>\n",
       "      <td>24.613517</td>\n",
       "      <td>61.198277</td>\n",
       "    </tr>\n",
       "    <tr>\n",
       "      <th>std</th>\n",
       "      <td>NaN</td>\n",
       "      <td>21.975534</td>\n",
       "      <td>56.538689</td>\n",
       "    </tr>\n",
       "    <tr>\n",
       "      <th>min</th>\n",
       "      <td>NaN</td>\n",
       "      <td>1.000000</td>\n",
       "      <td>1.000000</td>\n",
       "    </tr>\n",
       "    <tr>\n",
       "      <th>25%</th>\n",
       "      <td>NaN</td>\n",
       "      <td>7.000000</td>\n",
       "      <td>20.000000</td>\n",
       "    </tr>\n",
       "    <tr>\n",
       "      <th>50%</th>\n",
       "      <td>NaN</td>\n",
       "      <td>18.000000</td>\n",
       "      <td>44.000000</td>\n",
       "    </tr>\n",
       "    <tr>\n",
       "      <th>75%</th>\n",
       "      <td>NaN</td>\n",
       "      <td>37.000000</td>\n",
       "      <td>85.000000</td>\n",
       "    </tr>\n",
       "    <tr>\n",
       "      <th>max</th>\n",
       "      <td>NaN</td>\n",
       "      <td>114.000000</td>\n",
       "      <td>286.000000</td>\n",
       "    </tr>\n",
       "  </tbody>\n",
       "</table>\n",
       "</div>"
      ],
      "text/plain": [
       "       Unnamed: 1         SURAH         VERSE\n",
       "count         0.0  77649.000000  77649.000000\n",
       "mean          NaN     24.613517     61.198277\n",
       "std           NaN     21.975534     56.538689\n",
       "min           NaN      1.000000      1.000000\n",
       "25%           NaN      7.000000     20.000000\n",
       "50%           NaN     18.000000     44.000000\n",
       "75%           NaN     37.000000     85.000000\n",
       "max           NaN    114.000000    286.000000"
      ]
     },
     "execution_count": 3,
     "metadata": {},
     "output_type": "execute_result"
    }
   ],
   "source": [
    "df.describe()"
   ]
  },
  {
   "cell_type": "code",
   "execution_count": 4,
   "metadata": {},
   "outputs": [
    {
     "data": {
      "text/html": [
       "<div>\n",
       "<style scoped>\n",
       "    .dataframe tbody tr th:only-of-type {\n",
       "        vertical-align: middle;\n",
       "    }\n",
       "\n",
       "    .dataframe tbody tr th {\n",
       "        vertical-align: top;\n",
       "    }\n",
       "\n",
       "    .dataframe thead th {\n",
       "        text-align: right;\n",
       "    }\n",
       "</style>\n",
       "<table border=\"1\" class=\"dataframe\">\n",
       "  <thead>\n",
       "    <tr style=\"text-align: right;\">\n",
       "      <th></th>\n",
       "      <th>Unnamed: 1</th>\n",
       "      <th>SURAH</th>\n",
       "      <th>VERSE</th>\n",
       "      <th>LAST_TEXT</th>\n",
       "      <th>LAST_TEXT_WITHOUT_SIGNS</th>\n",
       "      <th>BRX_ROOT</th>\n",
       "      <th>MEANING_GROUP</th>\n",
       "      <th>MEANING</th>\n",
       "      <th>LAST_ROOT</th>\n",
       "      <th>ROOT</th>\n",
       "      <th>ABAY_TEXT</th>\n",
       "    </tr>\n",
       "    <tr>\n",
       "      <th>ROW_NUM</th>\n",
       "      <th></th>\n",
       "      <th></th>\n",
       "      <th></th>\n",
       "      <th></th>\n",
       "      <th></th>\n",
       "      <th></th>\n",
       "      <th></th>\n",
       "      <th></th>\n",
       "      <th></th>\n",
       "      <th></th>\n",
       "      <th></th>\n",
       "    </tr>\n",
       "  </thead>\n",
       "  <tbody>\n",
       "    <tr>\n",
       "      <th>1</th>\n",
       "      <td>True</td>\n",
       "      <td>False</td>\n",
       "      <td>False</td>\n",
       "      <td>False</td>\n",
       "      <td>False</td>\n",
       "      <td>False</td>\n",
       "      <td>False</td>\n",
       "      <td>False</td>\n",
       "      <td>False</td>\n",
       "      <td>False</td>\n",
       "      <td>False</td>\n",
       "    </tr>\n",
       "    <tr>\n",
       "      <th>2</th>\n",
       "      <td>True</td>\n",
       "      <td>False</td>\n",
       "      <td>False</td>\n",
       "      <td>False</td>\n",
       "      <td>False</td>\n",
       "      <td>False</td>\n",
       "      <td>False</td>\n",
       "      <td>False</td>\n",
       "      <td>True</td>\n",
       "      <td>False</td>\n",
       "      <td>False</td>\n",
       "    </tr>\n",
       "    <tr>\n",
       "      <th>3</th>\n",
       "      <td>True</td>\n",
       "      <td>False</td>\n",
       "      <td>False</td>\n",
       "      <td>False</td>\n",
       "      <td>False</td>\n",
       "      <td>False</td>\n",
       "      <td>False</td>\n",
       "      <td>False</td>\n",
       "      <td>False</td>\n",
       "      <td>False</td>\n",
       "      <td>False</td>\n",
       "    </tr>\n",
       "    <tr>\n",
       "      <th>4</th>\n",
       "      <td>True</td>\n",
       "      <td>False</td>\n",
       "      <td>False</td>\n",
       "      <td>False</td>\n",
       "      <td>False</td>\n",
       "      <td>False</td>\n",
       "      <td>False</td>\n",
       "      <td>False</td>\n",
       "      <td>False</td>\n",
       "      <td>False</td>\n",
       "      <td>False</td>\n",
       "    </tr>\n",
       "    <tr>\n",
       "      <th>5</th>\n",
       "      <td>True</td>\n",
       "      <td>False</td>\n",
       "      <td>False</td>\n",
       "      <td>False</td>\n",
       "      <td>False</td>\n",
       "      <td>False</td>\n",
       "      <td>False</td>\n",
       "      <td>False</td>\n",
       "      <td>False</td>\n",
       "      <td>False</td>\n",
       "      <td>False</td>\n",
       "    </tr>\n",
       "    <tr>\n",
       "      <th>...</th>\n",
       "      <td>...</td>\n",
       "      <td>...</td>\n",
       "      <td>...</td>\n",
       "      <td>...</td>\n",
       "      <td>...</td>\n",
       "      <td>...</td>\n",
       "      <td>...</td>\n",
       "      <td>...</td>\n",
       "      <td>...</td>\n",
       "      <td>...</td>\n",
       "      <td>...</td>\n",
       "    </tr>\n",
       "    <tr>\n",
       "      <th>77645</th>\n",
       "      <td>True</td>\n",
       "      <td>False</td>\n",
       "      <td>False</td>\n",
       "      <td>False</td>\n",
       "      <td>False</td>\n",
       "      <td>False</td>\n",
       "      <td>False</td>\n",
       "      <td>False</td>\n",
       "      <td>False</td>\n",
       "      <td>False</td>\n",
       "      <td>False</td>\n",
       "    </tr>\n",
       "    <tr>\n",
       "      <th>77646</th>\n",
       "      <td>True</td>\n",
       "      <td>False</td>\n",
       "      <td>False</td>\n",
       "      <td>False</td>\n",
       "      <td>False</td>\n",
       "      <td>False</td>\n",
       "      <td>False</td>\n",
       "      <td>False</td>\n",
       "      <td>False</td>\n",
       "      <td>False</td>\n",
       "      <td>False</td>\n",
       "    </tr>\n",
       "    <tr>\n",
       "      <th>77647</th>\n",
       "      <td>True</td>\n",
       "      <td>False</td>\n",
       "      <td>False</td>\n",
       "      <td>False</td>\n",
       "      <td>False</td>\n",
       "      <td>False</td>\n",
       "      <td>False</td>\n",
       "      <td>False</td>\n",
       "      <td>True</td>\n",
       "      <td>True</td>\n",
       "      <td>False</td>\n",
       "    </tr>\n",
       "    <tr>\n",
       "      <th>77648</th>\n",
       "      <td>True</td>\n",
       "      <td>False</td>\n",
       "      <td>False</td>\n",
       "      <td>False</td>\n",
       "      <td>False</td>\n",
       "      <td>False</td>\n",
       "      <td>False</td>\n",
       "      <td>False</td>\n",
       "      <td>False</td>\n",
       "      <td>False</td>\n",
       "      <td>False</td>\n",
       "    </tr>\n",
       "    <tr>\n",
       "      <th>77649</th>\n",
       "      <td>True</td>\n",
       "      <td>False</td>\n",
       "      <td>False</td>\n",
       "      <td>False</td>\n",
       "      <td>False</td>\n",
       "      <td>False</td>\n",
       "      <td>False</td>\n",
       "      <td>False</td>\n",
       "      <td>False</td>\n",
       "      <td>False</td>\n",
       "      <td>False</td>\n",
       "    </tr>\n",
       "  </tbody>\n",
       "</table>\n",
       "<p>77649 rows × 11 columns</p>\n",
       "</div>"
      ],
      "text/plain": [
       "         Unnamed: 1  SURAH  VERSE  LAST_TEXT  LAST_TEXT_WITHOUT_SIGNS  \\\n",
       "ROW_NUM                                                                 \n",
       "1              True  False  False      False                    False   \n",
       "2              True  False  False      False                    False   \n",
       "3              True  False  False      False                    False   \n",
       "4              True  False  False      False                    False   \n",
       "5              True  False  False      False                    False   \n",
       "...             ...    ...    ...        ...                      ...   \n",
       "77645          True  False  False      False                    False   \n",
       "77646          True  False  False      False                    False   \n",
       "77647          True  False  False      False                    False   \n",
       "77648          True  False  False      False                    False   \n",
       "77649          True  False  False      False                    False   \n",
       "\n",
       "         BRX_ROOT  MEANING_GROUP  MEANING  LAST_ROOT   ROOT  ABAY_TEXT  \n",
       "ROW_NUM                                                                 \n",
       "1           False          False    False      False  False      False  \n",
       "2           False          False    False       True  False      False  \n",
       "3           False          False    False      False  False      False  \n",
       "4           False          False    False      False  False      False  \n",
       "5           False          False    False      False  False      False  \n",
       "...           ...            ...      ...        ...    ...        ...  \n",
       "77645       False          False    False      False  False      False  \n",
       "77646       False          False    False      False  False      False  \n",
       "77647       False          False    False       True   True      False  \n",
       "77648       False          False    False      False  False      False  \n",
       "77649       False          False    False      False  False      False  \n",
       "\n",
       "[77649 rows x 11 columns]"
      ]
     },
     "execution_count": 4,
     "metadata": {},
     "output_type": "execute_result"
    }
   ],
   "source": [
    "df.isna()"
   ]
  },
  {
   "cell_type": "markdown",
   "metadata": {},
   "source": [
    "QURAN Revolution order and suhaf order are different."
   ]
  },
  {
   "cell_type": "code",
   "execution_count": 5,
   "metadata": {
    "tags": []
   },
   "outputs": [
    {
     "data": {
      "text/html": [
       "<div>\n",
       "<style scoped>\n",
       "    .dataframe tbody tr th:only-of-type {\n",
       "        vertical-align: middle;\n",
       "    }\n",
       "\n",
       "    .dataframe tbody tr th {\n",
       "        vertical-align: top;\n",
       "    }\n",
       "\n",
       "    .dataframe thead th {\n",
       "        text-align: right;\n",
       "    }\n",
       "</style>\n",
       "<table border=\"1\" class=\"dataframe\">\n",
       "  <thead>\n",
       "    <tr style=\"text-align: right;\">\n",
       "      <th></th>\n",
       "      <th>Unnamed: 1</th>\n",
       "      <th>SURAH</th>\n",
       "      <th>VERSE</th>\n",
       "      <th>LAST_TEXT</th>\n",
       "      <th>LAST_TEXT_WITHOUT_SIGNS</th>\n",
       "      <th>BRX_ROOT</th>\n",
       "      <th>MEANING_GROUP</th>\n",
       "      <th>MEANING</th>\n",
       "      <th>LAST_ROOT</th>\n",
       "      <th>ROOT</th>\n",
       "      <th>ABAY_TEXT</th>\n",
       "      <th>Revelation</th>\n",
       "    </tr>\n",
       "    <tr>\n",
       "      <th>ROW_NUM</th>\n",
       "      <th></th>\n",
       "      <th></th>\n",
       "      <th></th>\n",
       "      <th></th>\n",
       "      <th></th>\n",
       "      <th></th>\n",
       "      <th></th>\n",
       "      <th></th>\n",
       "      <th></th>\n",
       "      <th></th>\n",
       "      <th></th>\n",
       "      <th></th>\n",
       "    </tr>\n",
       "  </thead>\n",
       "  <tbody>\n",
       "    <tr>\n",
       "      <th>1</th>\n",
       "      <td>NaN</td>\n",
       "      <td>1</td>\n",
       "      <td>1</td>\n",
       "      <td>بِسْمِ</td>\n",
       "      <td>بسم</td>\n",
       "      <td>اسم</td>\n",
       "      <td>İsim</td>\n",
       "      <td>adıyla</td>\n",
       "      <td>س م و</td>\n",
       "      <td>س م و</td>\n",
       "      <td>بِسْمِ</td>\n",
       "      <td>96</td>\n",
       "    </tr>\n",
       "    <tr>\n",
       "      <th>2</th>\n",
       "      <td>NaN</td>\n",
       "      <td>1</td>\n",
       "      <td>1</td>\n",
       "      <td>اللهِ</td>\n",
       "      <td>الله</td>\n",
       "      <td>الله</td>\n",
       "      <td>Allah</td>\n",
       "      <td>Allah’ın</td>\n",
       "      <td>NaN</td>\n",
       "      <td>أ ل ه</td>\n",
       "      <td>اللّٰهِ</td>\n",
       "      <td>96</td>\n",
       "    </tr>\n",
       "    <tr>\n",
       "      <th>3</th>\n",
       "      <td>NaN</td>\n",
       "      <td>1</td>\n",
       "      <td>1</td>\n",
       "      <td>الرَّحْمَنِ</td>\n",
       "      <td>الرحمن</td>\n",
       "      <td>رحم</td>\n",
       "      <td>Acımak</td>\n",
       "      <td>Rahman</td>\n",
       "      <td>ر ح م</td>\n",
       "      <td>ر ح م</td>\n",
       "      <td>الرَّحْمٰنِ</td>\n",
       "      <td>96</td>\n",
       "    </tr>\n",
       "    <tr>\n",
       "      <th>4</th>\n",
       "      <td>NaN</td>\n",
       "      <td>1</td>\n",
       "      <td>1</td>\n",
       "      <td>الرَّحِيمِ</td>\n",
       "      <td>الرحيم</td>\n",
       "      <td>رحم</td>\n",
       "      <td>Acımak</td>\n",
       "      <td>Rahim</td>\n",
       "      <td>ر ح م</td>\n",
       "      <td>ر ح م</td>\n",
       "      <td>الرَّحٖيمِ</td>\n",
       "      <td>96</td>\n",
       "    </tr>\n",
       "    <tr>\n",
       "      <th>5</th>\n",
       "      <td>NaN</td>\n",
       "      <td>1</td>\n",
       "      <td>2</td>\n",
       "      <td>الْحَمْدُ</td>\n",
       "      <td>الحمد</td>\n",
       "      <td>حمد</td>\n",
       "      <td>Övmek</td>\n",
       "      <td>hamdolsun</td>\n",
       "      <td>ح م د</td>\n",
       "      <td>ح م د</td>\n",
       "      <td>اَلْحَمْدُ</td>\n",
       "      <td>96</td>\n",
       "    </tr>\n",
       "  </tbody>\n",
       "</table>\n",
       "</div>"
      ],
      "text/plain": [
       "         Unnamed: 1  SURAH  VERSE    LAST_TEXT LAST_TEXT_WITHOUT_SIGNS  \\\n",
       "ROW_NUM                                                                  \n",
       "1               NaN      1      1       بِسْمِ                     بسم   \n",
       "2               NaN      1      1        اللهِ                    الله   \n",
       "3               NaN      1      1  الرَّحْمَنِ                  الرحمن   \n",
       "4               NaN      1      1   الرَّحِيمِ                  الرحيم   \n",
       "5               NaN      1      2    الْحَمْدُ                   الحمد   \n",
       "\n",
       "        BRX_ROOT MEANING_GROUP    MEANING LAST_ROOT   ROOT    ABAY_TEXT  \\\n",
       "ROW_NUM                                                                   \n",
       "1            اسم          İsim     adıyla     س م و  س م و       بِسْمِ   \n",
       "2           الله         Allah   Allah’ın       NaN  أ ل ه      اللّٰهِ   \n",
       "3            رحم        Acımak     Rahman     ر ح م  ر ح م  الرَّحْمٰنِ   \n",
       "4            رحم        Acımak      Rahim     ر ح م  ر ح م   الرَّحٖيمِ   \n",
       "5            حمد         Övmek  hamdolsun     ح م د  ح م د   اَلْحَمْدُ   \n",
       "\n",
       "         Revelation  \n",
       "ROW_NUM              \n",
       "1                96  \n",
       "2                96  \n",
       "3                96  \n",
       "4                96  \n",
       "5                96  "
      ]
     },
     "execution_count": 5,
     "metadata": {},
     "output_type": "execute_result"
    }
   ],
   "source": [
    "revelation=[96,68,73,74,1,111,81,87,92,89,93,94,103,100,108,102,107,109,105,113,114,112,53,80,97,91,85,95,106,101,75,104,77,50,90,86,54,38,7,72,36,52,35,19,20,56,26,27,28,17,10,11,12,15,6,37,31,34,39,40,41,42,43,44,45,46,51,88,18,16,71,14,21,23,32,52,67,69,70,78,79,82,84,30,29,83,2,8,3,33,60,4,99,57,47,13,55,76,65,98,59,24,22,63,58,49,66,64,61,62,48,5,9,110]\n",
    "#set nüzul order\n",
    "df['Revelation'] = df['SURAH'].apply(lambda x: revelation[x-1])\n",
    "df.head()\n"
   ]
  },
  {
   "cell_type": "code",
   "execution_count": 6,
   "metadata": {
    "tags": []
   },
   "outputs": [
    {
     "data": {
      "image/png": "[encoded data removed]",
      "text/plain": [
       "<Figure size 432x288 with 2 Axes>"
      ]
     },
     "metadata": {
      "needs_background": "light"
     },
     "output_type": "display_data"
    }
   ],
   "source": [
    "plt.rcParams.update({'font.size': 25})\n",
    "sns.set_context(\"paper\")\n",
    "\n",
    "plt.scatter(df.SURAH, df.Revelation, s=50,\n",
    "            alpha=0.2, cmap=\"viridis\") #cmap renk paleti\n",
    "plt.colorbar(); #hangi rengin hangi değere denk geldiğini gösteren yandaki ölçek\n",
    "plt.xlabel(\"SURAH\") #eksen ismi\n",
    "plt.ylabel(\"Revelation\") \n",
    "plt.title(\"Relationship between SURAH and Revelation\") #plot ismi\n",
    "plt.show()"
   ]
  },
  {
   "cell_type": "code",
   "execution_count": 7,
   "metadata": {},
   "outputs": [
    {
     "data": {
      "image/png": "[encoded data removed]",
      "text/plain": [
       "<Figure size 432x288 with 1 Axes>"
      ]
     },
     "metadata": {
      "needs_background": "light"
     },
     "output_type": "display_data"
    }
   ],
   "source": [
    "revs=df.Revelation.unique()\n",
    "plt.hist([df.loc[df.Revelation == x, 'VERSE'] for x in revs], label=revs)\n",
    "plt.show()"
   ]
  },
  {
   "cell_type": "code",
   "execution_count": 8,
   "metadata": {},
   "outputs": [
    {
     "data": {
      "image/png": "[encoded data removed]",
      "text/plain": [
       "<Figure size 432x288 with 1 Axes>"
      ]
     },
     "metadata": {
      "needs_background": "light"
     },
     "output_type": "display_data"
    }
   ],
   "source": [
    "fig, ax = plt.subplots()\n",
    "ax.hist(df.Revelation, label=\"Revelation\", bins=20)\n",
    "ax.set_xlabel(\"Revelation\")\n",
    "ax.set_ylabel(\"Number of SURAH\")\n",
    "plt.show()"
   ]
  },
  {
   "cell_type": "code",
   "execution_count": 9,
   "metadata": {},
   "outputs": [
    {
     "data": {
      "text/html": [
       "<div>\n",
       "<style scoped>\n",
       "    .dataframe tbody tr th:only-of-type {\n",
       "        vertical-align: middle;\n",
       "    }\n",
       "\n",
       "    .dataframe tbody tr th {\n",
       "        vertical-align: top;\n",
       "    }\n",
       "\n",
       "    .dataframe thead th {\n",
       "        text-align: right;\n",
       "    }\n",
       "</style>\n",
       "<table border=\"1\" class=\"dataframe\">\n",
       "  <thead>\n",
       "    <tr style=\"text-align: right;\">\n",
       "      <th></th>\n",
       "      <th>ROW_NUM</th>\n",
       "      <th>TITLE</th>\n",
       "      <th>ARABIC_TITLE</th>\n",
       "      <th>ENG_DESC</th>\n",
       "      <th>VERSES_DESC</th>\n",
       "      <th>PLACE_OF_REV</th>\n",
       "      <th>EGYPT_CHRON</th>\n",
       "      <th>NOLDOKE_CHRON</th>\n",
       "      <th>MUQATTA</th>\n",
       "      <th>TITLE_REFER</th>\n",
       "      <th>MAIN_THEME</th>\n",
       "    </tr>\n",
       "  </thead>\n",
       "  <tbody>\n",
       "    <tr>\n",
       "      <th>0</th>\n",
       "      <td>1</td>\n",
       "      <td>Al-Fatiha</td>\n",
       "      <td>ٱلْفَاتِحَة</td>\n",
       "      <td>The Opening, The Opening of the Divine Writ, T...</td>\n",
       "      <td>7 (1)</td>\n",
       "      <td>Makkah</td>\n",
       "      <td>5</td>\n",
       "      <td>48</td>\n",
       "      <td>NaN</td>\n",
       "      <td>Whole Surah [8]</td>\n",
       "      <td>The fundamental principles of the Qur'an in a ...</td>\n",
       "    </tr>\n",
       "    <tr>\n",
       "      <th>1</th>\n",
       "      <td>2</td>\n",
       "      <td>Al-Baqarah</td>\n",
       "      <td>ٱلْبَقَرَة</td>\n",
       "      <td>The Calf, The Cow</td>\n",
       "      <td>286 (40)</td>\n",
       "      <td>Madinah</td>\n",
       "      <td>87</td>\n",
       "      <td>91</td>\n",
       "      <td>Alif Lam Mim</td>\n",
       "      <td>v. 67-73 [8]</td>\n",
       "      <td>The necessity of God-consciousness.[8]</td>\n",
       "    </tr>\n",
       "    <tr>\n",
       "      <th>2</th>\n",
       "      <td>3</td>\n",
       "      <td>Al Imran</td>\n",
       "      <td>آلِ عِمْرَان</td>\n",
       "      <td>The Family of Imraan, The House of ʿImrān</td>\n",
       "      <td>200 (20)</td>\n",
       "      <td>Madinah</td>\n",
       "      <td>89</td>\n",
       "      <td>97</td>\n",
       "      <td>Alif Lam Mim</td>\n",
       "      <td>v. 33, 35 [8]</td>\n",
       "      <td>The human nature of Isa.[8]</td>\n",
       "    </tr>\n",
       "    <tr>\n",
       "      <th>3</th>\n",
       "      <td>4</td>\n",
       "      <td>An-Nisa</td>\n",
       "      <td>ٱلنِّسَاء</td>\n",
       "      <td>The Women</td>\n",
       "      <td>176 (24)</td>\n",
       "      <td>Madinah</td>\n",
       "      <td>92</td>\n",
       "      <td>100</td>\n",
       "      <td>NaN</td>\n",
       "      <td>Whole Surah [8]</td>\n",
       "      <td>Unity of the human race and the mutual obligat...</td>\n",
       "    </tr>\n",
       "    <tr>\n",
       "      <th>4</th>\n",
       "      <td>5</td>\n",
       "      <td>Al-Ma'idah</td>\n",
       "      <td>ٱلْمَائِدَة</td>\n",
       "      <td>The Food, The Repast, The Table</td>\n",
       "      <td>120 (16)</td>\n",
       "      <td>Madinah</td>\n",
       "      <td>112</td>\n",
       "      <td>114</td>\n",
       "      <td>NaN</td>\n",
       "      <td>v. 112-114 [8]</td>\n",
       "      <td>A series of ordinances (incl. Religious rites ...</td>\n",
       "    </tr>\n",
       "  </tbody>\n",
       "</table>\n",
       "</div>"
      ],
      "text/plain": [
       "   ROW_NUM       TITLE  ARABIC_TITLE  \\\n",
       "0        1   Al-Fatiha   ٱلْفَاتِحَة   \n",
       "1        2  Al-Baqarah    ٱلْبَقَرَة   \n",
       "2        3    Al Imran  آلِ عِمْرَان   \n",
       "3        4     An-Nisa     ٱلنِّسَاء   \n",
       "4        5  Al-Ma'idah   ٱلْمَائِدَة   \n",
       "\n",
       "                                            ENG_DESC VERSES_DESC PLACE_OF_REV  \\\n",
       "0  The Opening, The Opening of the Divine Writ, T...       7 (1)       Makkah   \n",
       "1                                  The Calf, The Cow    286 (40)      Madinah   \n",
       "2          The Family of Imraan, The House of ʿImrān    200 (20)      Madinah   \n",
       "3                                          The Women    176 (24)      Madinah   \n",
       "4                    The Food, The Repast, The Table    120 (16)      Madinah   \n",
       "\n",
       "   EGYPT_CHRON  NOLDOKE_CHRON       MUQATTA      TITLE_REFER  \\\n",
       "0            5             48           NaN  Whole Surah [8]   \n",
       "1           87             91  Alif Lam Mim     v. 67-73 [8]   \n",
       "2           89             97  Alif Lam Mim    v. 33, 35 [8]   \n",
       "3           92            100           NaN  Whole Surah [8]   \n",
       "4          112            114           NaN   v. 112-114 [8]   \n",
       "\n",
       "                                          MAIN_THEME  \n",
       "0  The fundamental principles of the Qur'an in a ...  \n",
       "1             The necessity of God-consciousness.[8]  \n",
       "2                        The human nature of Isa.[8]  \n",
       "3  Unity of the human race and the mutual obligat...  \n",
       "4  A series of ordinances (incl. Religious rites ...  "
      ]
     },
     "execution_count": 9,
     "metadata": {},
     "output_type": "execute_result"
    }
   ],
   "source": [
    "dfChapter=pd.read_excel(\"./WikiChapters.xlsx\", index_col=None)\n",
    "dfChapter.head()"
   ]
  },
  {
   "cell_type": "code",
   "execution_count": 10,
   "metadata": {
    "tags": []
   },
   "outputs": [
    {
     "data": {
      "text/html": [
       "<div>\n",
       "<style scoped>\n",
       "    .dataframe tbody tr th:only-of-type {\n",
       "        vertical-align: middle;\n",
       "    }\n",
       "\n",
       "    .dataframe tbody tr th {\n",
       "        vertical-align: top;\n",
       "    }\n",
       "\n",
       "    .dataframe thead th {\n",
       "        text-align: right;\n",
       "    }\n",
       "</style>\n",
       "<table border=\"1\" class=\"dataframe\">\n",
       "  <thead>\n",
       "    <tr style=\"text-align: right;\">\n",
       "      <th></th>\n",
       "      <th>ROW_NUM</th>\n",
       "      <th>TITLE</th>\n",
       "      <th>ARABIC_TITLE</th>\n",
       "      <th>ENG_DESC</th>\n",
       "      <th>VERSES_DESC</th>\n",
       "      <th>PLACE_OF_REV</th>\n",
       "      <th>EGYPT_CHRON</th>\n",
       "      <th>NOLDOKE_CHRON</th>\n",
       "      <th>MUQATTA</th>\n",
       "      <th>TITLE_REFER</th>\n",
       "      <th>MAIN_THEME</th>\n",
       "      <th>Revelation</th>\n",
       "      <th>VERSE_COUNT</th>\n",
       "    </tr>\n",
       "  </thead>\n",
       "  <tbody>\n",
       "    <tr>\n",
       "      <th>0</th>\n",
       "      <td>1</td>\n",
       "      <td>Al-Fatiha</td>\n",
       "      <td>ٱلْفَاتِحَة</td>\n",
       "      <td>The Opening, The Opening of the Divine Writ, T...</td>\n",
       "      <td>7 (1)</td>\n",
       "      <td>Makkah</td>\n",
       "      <td>5</td>\n",
       "      <td>48</td>\n",
       "      <td>NaN</td>\n",
       "      <td>Whole Surah [8]</td>\n",
       "      <td>The fundamental principles of the Qur'an in a ...</td>\n",
       "      <td>96</td>\n",
       "      <td>7</td>\n",
       "    </tr>\n",
       "    <tr>\n",
       "      <th>1</th>\n",
       "      <td>2</td>\n",
       "      <td>Al-Baqarah</td>\n",
       "      <td>ٱلْبَقَرَة</td>\n",
       "      <td>The Calf, The Cow</td>\n",
       "      <td>286 (40)</td>\n",
       "      <td>Madinah</td>\n",
       "      <td>87</td>\n",
       "      <td>91</td>\n",
       "      <td>Alif Lam Mim</td>\n",
       "      <td>v. 67-73 [8]</td>\n",
       "      <td>The necessity of God-consciousness.[8]</td>\n",
       "      <td>68</td>\n",
       "      <td>286</td>\n",
       "    </tr>\n",
       "    <tr>\n",
       "      <th>2</th>\n",
       "      <td>3</td>\n",
       "      <td>Al Imran</td>\n",
       "      <td>آلِ عِمْرَان</td>\n",
       "      <td>The Family of Imraan, The House of ʿImrān</td>\n",
       "      <td>200 (20)</td>\n",
       "      <td>Madinah</td>\n",
       "      <td>89</td>\n",
       "      <td>97</td>\n",
       "      <td>Alif Lam Mim</td>\n",
       "      <td>v. 33, 35 [8]</td>\n",
       "      <td>The human nature of Isa.[8]</td>\n",
       "      <td>73</td>\n",
       "      <td>200</td>\n",
       "    </tr>\n",
       "    <tr>\n",
       "      <th>3</th>\n",
       "      <td>4</td>\n",
       "      <td>An-Nisa</td>\n",
       "      <td>ٱلنِّسَاء</td>\n",
       "      <td>The Women</td>\n",
       "      <td>176 (24)</td>\n",
       "      <td>Madinah</td>\n",
       "      <td>92</td>\n",
       "      <td>100</td>\n",
       "      <td>NaN</td>\n",
       "      <td>Whole Surah [8]</td>\n",
       "      <td>Unity of the human race and the mutual obligat...</td>\n",
       "      <td>74</td>\n",
       "      <td>176</td>\n",
       "    </tr>\n",
       "    <tr>\n",
       "      <th>4</th>\n",
       "      <td>5</td>\n",
       "      <td>Al-Ma'idah</td>\n",
       "      <td>ٱلْمَائِدَة</td>\n",
       "      <td>The Food, The Repast, The Table</td>\n",
       "      <td>120 (16)</td>\n",
       "      <td>Madinah</td>\n",
       "      <td>112</td>\n",
       "      <td>114</td>\n",
       "      <td>NaN</td>\n",
       "      <td>v. 112-114 [8]</td>\n",
       "      <td>A series of ordinances (incl. Religious rites ...</td>\n",
       "      <td>1</td>\n",
       "      <td>120</td>\n",
       "    </tr>\n",
       "  </tbody>\n",
       "</table>\n",
       "</div>"
      ],
      "text/plain": [
       "   ROW_NUM       TITLE  ARABIC_TITLE  \\\n",
       "0        1   Al-Fatiha   ٱلْفَاتِحَة   \n",
       "1        2  Al-Baqarah    ٱلْبَقَرَة   \n",
       "2        3    Al Imran  آلِ عِمْرَان   \n",
       "3        4     An-Nisa     ٱلنِّسَاء   \n",
       "4        5  Al-Ma'idah   ٱلْمَائِدَة   \n",
       "\n",
       "                                            ENG_DESC VERSES_DESC PLACE_OF_REV  \\\n",
       "0  The Opening, The Opening of the Divine Writ, T...       7 (1)       Makkah   \n",
       "1                                  The Calf, The Cow    286 (40)      Madinah   \n",
       "2          The Family of Imraan, The House of ʿImrān    200 (20)      Madinah   \n",
       "3                                          The Women    176 (24)      Madinah   \n",
       "4                    The Food, The Repast, The Table    120 (16)      Madinah   \n",
       "\n",
       "   EGYPT_CHRON  NOLDOKE_CHRON       MUQATTA      TITLE_REFER  \\\n",
       "0            5             48           NaN  Whole Surah [8]   \n",
       "1           87             91  Alif Lam Mim     v. 67-73 [8]   \n",
       "2           89             97  Alif Lam Mim    v. 33, 35 [8]   \n",
       "3           92            100           NaN  Whole Surah [8]   \n",
       "4          112            114           NaN   v. 112-114 [8]   \n",
       "\n",
       "                                          MAIN_THEME  Revelation  VERSE_COUNT  \n",
       "0  The fundamental principles of the Qur'an in a ...          96            7  \n",
       "1             The necessity of God-consciousness.[8]          68          286  \n",
       "2                        The human nature of Isa.[8]          73          200  \n",
       "3  Unity of the human race and the mutual obligat...          74          176  \n",
       "4  A series of ordinances (incl. Religious rites ...           1          120  "
      ]
     },
     "execution_count": 10,
     "metadata": {},
     "output_type": "execute_result"
    }
   ],
   "source": [
    "\n",
    "import re\n",
    "dfChapter['Revelation'] = pd.to_numeric(dfChapter['ROW_NUM'].apply(lambda x: revelation[x-1]))\n",
    "dfChapter['VERSE_COUNT'] = pd.to_numeric(dfChapter['VERSES_DESC'].apply(lambda x: re.search(r'\\d*\\a*\\d*', x)[0]))\n",
    "dfChapter.head()"
   ]
  },
  {
   "cell_type": "code",
   "execution_count": 11,
   "metadata": {},
   "outputs": [
    {
     "data": {
      "image/png": "[encoded data removed]",
      "text/plain": [
       "<Figure size 457.805x360 with 1 Axes>"
      ]
     },
     "metadata": {
      "needs_background": "light"
     },
     "output_type": "display_data"
    }
   ],
   "source": [
    "sns.relplot(x=\"ROW_NUM\", y=\"VERSE_COUNT\",data=dfChapter, hue=\"PLACE_OF_REV\", kind=\"scatter\")\n",
    "plt.show()"
   ]
  },
  {
   "cell_type": "code",
   "execution_count": 12,
   "metadata": {},
   "outputs": [
    {
     "data": {
      "image/png": "[encoded data removed]",
      "text/plain": [
       "<Figure size 1537.81x720 with 2 Axes>"
      ]
     },
     "metadata": {
      "needs_background": "light"
     },
     "output_type": "display_data"
    }
   ],
   "source": [
    "#dfChapter.sort_values(['ROW_NUM']).reset_index(drop=True)\n",
    "g=sns.relplot(x=\"ROW_NUM\", y=\"VERSE_COUNT\", hue=\"PLACE_OF_REV\",aspect=4, palette=[\"b\",\"r\"],data=dfChapter, kind=\"line\",  ci=\"sd\",row=\"PLACE_OF_REV\")\n",
    "plt.xlabel=\"SURAH_NO\"\n",
    "plt.xticks(rotation=90)\n",
    "plt.show()\n"
   ]
  },
  {
   "cell_type": "code",
   "execution_count": 13,
   "metadata": {
    "tags": []
   },
   "outputs": [
    {
     "data": {
      "text/plain": [
       "Unnamed: 1                  True\n",
       "SURAH                      False\n",
       "VERSE                      False\n",
       "LAST_TEXT                  False\n",
       "LAST_TEXT_WITHOUT_SIGNS    False\n",
       "BRX_ROOT                   False\n",
       "MEANING_GROUP              False\n",
       "MEANING                     True\n",
       "LAST_ROOT                   True\n",
       "ROOT                        True\n",
       "ABAY_TEXT                  False\n",
       "Revelation                 False\n",
       "dtype: bool"
      ]
     },
     "execution_count": 13,
     "metadata": {},
     "output_type": "execute_result"
    }
   ],
   "source": [
    "df.head()\n",
    "df.isna().any()\n"
   ]
  },
  {
   "cell_type": "markdown",
   "metadata": {},
   "source": [
    "Join chapter with meaning groups"
   ]
  },
  {
   "cell_type": "code",
   "execution_count": 14,
   "metadata": {
    "tags": []
   },
   "outputs": [
    {
     "data": {
      "text/html": [
       "<div>\n",
       "<style scoped>\n",
       "    .dataframe tbody tr th:only-of-type {\n",
       "        vertical-align: middle;\n",
       "    }\n",
       "\n",
       "    .dataframe tbody tr th {\n",
       "        vertical-align: top;\n",
       "    }\n",
       "\n",
       "    .dataframe thead th {\n",
       "        text-align: right;\n",
       "    }\n",
       "</style>\n",
       "<table border=\"1\" class=\"dataframe\">\n",
       "  <thead>\n",
       "    <tr style=\"text-align: right;\">\n",
       "      <th></th>\n",
       "      <th>Unnamed: 1</th>\n",
       "      <th>SURAH</th>\n",
       "      <th>VERSE</th>\n",
       "      <th>Revelation_x</th>\n",
       "      <th>ROW_NUM</th>\n",
       "      <th>EGYPT_CHRON</th>\n",
       "      <th>NOLDOKE_CHRON</th>\n",
       "      <th>Revelation_y</th>\n",
       "      <th>VERSE_COUNT</th>\n",
       "    </tr>\n",
       "  </thead>\n",
       "  <tbody>\n",
       "    <tr>\n",
       "      <th>count</th>\n",
       "      <td>0.0</td>\n",
       "      <td>77649.000000</td>\n",
       "      <td>77649.000000</td>\n",
       "      <td>77649.000000</td>\n",
       "      <td>77649.000000</td>\n",
       "      <td>77649.000000</td>\n",
       "      <td>77649.000000</td>\n",
       "      <td>77649.000000</td>\n",
       "      <td>77649.000000</td>\n",
       "    </tr>\n",
       "    <tr>\n",
       "      <th>mean</th>\n",
       "      <td>NaN</td>\n",
       "      <td>24.613517</td>\n",
       "      <td>61.198277</td>\n",
       "      <td>72.392355</td>\n",
       "      <td>24.613517</td>\n",
       "      <td>70.650375</td>\n",
       "      <td>80.329418</td>\n",
       "      <td>72.392355</td>\n",
       "      <td>118.289418</td>\n",
       "    </tr>\n",
       "    <tr>\n",
       "      <th>std</th>\n",
       "      <td>NaN</td>\n",
       "      <td>21.975534</td>\n",
       "      <td>56.538689</td>\n",
       "      <td>31.399510</td>\n",
       "      <td>21.975534</td>\n",
       "      <td>24.882277</td>\n",
       "      <td>21.979757</td>\n",
       "      <td>31.399510</td>\n",
       "      <td>73.169981</td>\n",
       "    </tr>\n",
       "    <tr>\n",
       "      <th>min</th>\n",
       "      <td>NaN</td>\n",
       "      <td>1.000000</td>\n",
       "      <td>1.000000</td>\n",
       "      <td>1.000000</td>\n",
       "      <td>1.000000</td>\n",
       "      <td>1.000000</td>\n",
       "      <td>1.000000</td>\n",
       "      <td>1.000000</td>\n",
       "      <td>3.000000</td>\n",
       "    </tr>\n",
       "    <tr>\n",
       "      <th>25%</th>\n",
       "      <td>NaN</td>\n",
       "      <td>7.000000</td>\n",
       "      <td>20.000000</td>\n",
       "      <td>53.000000</td>\n",
       "      <td>7.000000</td>\n",
       "      <td>51.000000</td>\n",
       "      <td>67.000000</td>\n",
       "      <td>53.000000</td>\n",
       "      <td>62.000000</td>\n",
       "    </tr>\n",
       "    <tr>\n",
       "      <th>50%</th>\n",
       "      <td>NaN</td>\n",
       "      <td>18.000000</td>\n",
       "      <td>44.000000</td>\n",
       "      <td>77.000000</td>\n",
       "      <td>18.000000</td>\n",
       "      <td>70.000000</td>\n",
       "      <td>84.000000</td>\n",
       "      <td>77.000000</td>\n",
       "      <td>110.000000</td>\n",
       "    </tr>\n",
       "    <tr>\n",
       "      <th>75%</th>\n",
       "      <td>NaN</td>\n",
       "      <td>37.000000</td>\n",
       "      <td>85.000000</td>\n",
       "      <td>95.000000</td>\n",
       "      <td>37.000000</td>\n",
       "      <td>89.000000</td>\n",
       "      <td>97.000000</td>\n",
       "      <td>95.000000</td>\n",
       "      <td>165.000000</td>\n",
       "    </tr>\n",
       "    <tr>\n",
       "      <th>max</th>\n",
       "      <td>NaN</td>\n",
       "      <td>114.000000</td>\n",
       "      <td>286.000000</td>\n",
       "      <td>114.000000</td>\n",
       "      <td>114.000000</td>\n",
       "      <td>114.000000</td>\n",
       "      <td>114.000000</td>\n",
       "      <td>114.000000</td>\n",
       "      <td>286.000000</td>\n",
       "    </tr>\n",
       "  </tbody>\n",
       "</table>\n",
       "</div>"
      ],
      "text/plain": [
       "       Unnamed: 1         SURAH         VERSE  Revelation_x       ROW_NUM  \\\n",
       "count         0.0  77649.000000  77649.000000  77649.000000  77649.000000   \n",
       "mean          NaN     24.613517     61.198277     72.392355     24.613517   \n",
       "std           NaN     21.975534     56.538689     31.399510     21.975534   \n",
       "min           NaN      1.000000      1.000000      1.000000      1.000000   \n",
       "25%           NaN      7.000000     20.000000     53.000000      7.000000   \n",
       "50%           NaN     18.000000     44.000000     77.000000     18.000000   \n",
       "75%           NaN     37.000000     85.000000     95.000000     37.000000   \n",
       "max           NaN    114.000000    286.000000    114.000000    114.000000   \n",
       "\n",
       "        EGYPT_CHRON  NOLDOKE_CHRON  Revelation_y   VERSE_COUNT  \n",
       "count  77649.000000   77649.000000  77649.000000  77649.000000  \n",
       "mean      70.650375      80.329418     72.392355    118.289418  \n",
       "std       24.882277      21.979757     31.399510     73.169981  \n",
       "min        1.000000       1.000000      1.000000      3.000000  \n",
       "25%       51.000000      67.000000     53.000000     62.000000  \n",
       "50%       70.000000      84.000000     77.000000    110.000000  \n",
       "75%       89.000000      97.000000     95.000000    165.000000  \n",
       "max      114.000000     114.000000    114.000000    286.000000  "
      ]
     },
     "execution_count": 14,
     "metadata": {},
     "output_type": "execute_result"
    }
   ],
   "source": [
    "dfMerge=df.merge(dfChapter,left_on=\"SURAH\",right_on=\"ROW_NUM\")\n",
    "dfMerge.describe()"
   ]
  },
  {
   "cell_type": "code",
   "execution_count": 15,
   "metadata": {
    "tags": []
   },
   "outputs": [
    {
     "name": "stdout",
     "output_type": "stream",
     "text": [
      "   TITLE MEANING_GROUP  ROW_NUM PLACE_OF_REV  Counts\n",
      "0  Abasa          -den       80       Makkah       4\n",
      "1  Abasa     -den -dan       80       Makkah       1\n",
      "2  Abasa        -e, -a       80       Makkah       1\n",
      "3  Abasa           Ama       80       Makkah       2\n",
      "4  Abasa   Anlaşmazlık       80       Makkah       2\n"
     ]
    }
   ],
   "source": [
    "dfMerge['Counts'] = np.zeros(len(df))\n",
    "dfMeaning= dfMerge.groupby(['TITLE','MEANING_GROUP','ROW_NUM','PLACE_OF_REV'], as_index=False)['Counts'].count()\n",
    "print(dfMeaning.head())\n"
   ]
  },
  {
   "cell_type": "markdown",
   "metadata": {},
   "source": [
    "**Comparation between Woman, Man (In Turkish Kadın, Erkek) according to revelotion place Makkah or Madinah?"
   ]
  },
  {
   "cell_type": "code",
   "execution_count": 16,
   "metadata": {
    "tags": []
   },
   "outputs": [
    {
     "data": {
      "image/png": "[encoded data removed]",
      "text/plain": [
       "<Figure size 432x288 with 4 Axes>"
      ]
     },
     "metadata": {
      "needs_background": "light"
     },
     "output_type": "display_data"
    }
   ],
   "source": [
    "import matplotlib.pyplot as plt\n",
    "places=[\"Makkah\",\"Madinah\"]\n",
    "criterias=[\"Kadın\",\"Erkek\"]\n",
    "colors=[\"#648FFF\",\"#DC267F\",\"#FFB000\",\"#00B000\"]\n",
    "fig, axs = plt.subplots(nrows=2, ncols=2, constrained_layout=True)\n",
    "plt.xticks(rotation=60)\n",
    "i=0\n",
    "for row in axs:\n",
    "    j=0\n",
    "    for ax in row:    \n",
    "        dfSub=dfMeaning[(dfMeaning['MEANING_GROUP']==criterias[i] )& (dfMeaning.PLACE_OF_REV==places[j])]\n",
    "        ax.plot(dfSub.TITLE,dfSub.Counts, colors[i*2+j])\n",
    "        ax.set_xlabel(criterias[i]+\"/\"+places[j])\n",
    "        for tick in ax.get_xticklabels():\n",
    "            tick.set_rotation(45)\n",
    "        j+=1\n",
    "    i+=1\n",
    "plt.show()"
   ]
  },
  {
   "cell_type": "code",
   "execution_count": 17,
   "metadata": {},
   "outputs": [
    {
     "name": "stdout",
     "output_type": "stream",
     "text": [
      "Collecting package metadata (current_repodata.json): ...working... done\n",
      "Solving environment: ...working... done\n",
      "\n",
      "# All requested packages already installed.\n",
      "\n"
     ]
    },
    {
     "ename": "ModuleNotFoundError",
     "evalue": "No module named 'wordcloud'",
     "output_type": "error",
     "traceback": [
      "\u001b[1;31m---------------------------------------------------------------------------\u001b[0m",
      "\u001b[1;31mModuleNotFoundError\u001b[0m                       Traceback (most recent call last)",
      "\u001b[1;32m<ipython-input-17-f3c3c964a380>\u001b[0m in \u001b[0;36m<module>\u001b[1;34m\u001b[0m\n\u001b[0;32m      1\u001b[0m \u001b[1;32mfrom\u001b[0m \u001b[0mPIL\u001b[0m \u001b[1;32mimport\u001b[0m \u001b[0mImage\u001b[0m\u001b[1;33m\u001b[0m\u001b[1;33m\u001b[0m\u001b[0m\n\u001b[0;32m      2\u001b[0m \u001b[0mget_ipython\u001b[0m\u001b[1;33m(\u001b[0m\u001b[1;33m)\u001b[0m\u001b[1;33m.\u001b[0m\u001b[0msystem\u001b[0m\u001b[1;33m(\u001b[0m\u001b[1;34m'conda install wordcloud'\u001b[0m\u001b[1;33m)\u001b[0m\u001b[1;33m\u001b[0m\u001b[1;33m\u001b[0m\u001b[0m\n\u001b[1;32m----> 3\u001b[1;33m \u001b[1;32mfrom\u001b[0m \u001b[0mwordcloud\u001b[0m \u001b[1;32mimport\u001b[0m \u001b[0mWordCloud\u001b[0m\u001b[1;33m\u001b[0m\u001b[1;33m\u001b[0m\u001b[0m\n\u001b[0m",
      "\u001b[1;31mModuleNotFoundError\u001b[0m: No module named 'wordcloud'"
     ]
    }
   ],
   "source": [
    "from PIL import Image\n",
    "!conda install wordcloud\n",
    "from wordcloud import WordCloud"
   ]
  },
  {
   "cell_type": "markdown",
   "metadata": {},
   "source": [
    "**exclude some words conjunction, pronoun, auxiliary verbs, preposition etc."
   ]
  },
  {
   "cell_type": "code",
   "execution_count": null,
   "metadata": {},
   "outputs": [],
   "source": [
    "exclude_words = ['Şimdi','gelmek','demek','إِنْ','إِنَّ','لَـمْ','لَــمَّا','إِنَّ','لِماَ','Bu','etmek','Etmek','Kim',\n",
    "'Gelmek','demek','bilmek','Bilmek','dilemek','Dilemek','Şu','Bunlar','Şunlar','Gibi','Öyle ki','içinde',\n",
    "'Önce','Onlar','-e, -a','dan','-dan',\"-den\",'den','-den -dan','Bazı','Ya da','değil',\"Değil\",'Söylemek',\n",
    "'Öyle ki','Dek','Veya','ve','Ya','Ya Da',\"olmak\", \"etmek\",'veya','İçin','Eğer','önce','Ey','Sen','Ben','Biz','siz',\n",
    "'biz','ben','O','için','öyle','gel','-de','sen','ey','bu','şu','o','bunlar','şunlar','onlar','Hani','İçinde','kez',\n",
    "'az','Az','çok','Çok','en','ki','içinde','Eğer','üzerine','Öyle','yapmak','Fakat','Ama','Lakin','ancak','Ancak',\n",
    "'ile','İle','-ki','bir','Başka','önce','sonra','arasında','Çok','Az','Sonra','söylemek','görmek','belki']\n",
    "exclude_words_arabic=[]\n",
    "for word in exclude_words:\n",
    "    arabic_words=str(dfMerge.loc[dfMerge['MEANING_GROUP']==word]['BRX_ROOT'].unique()).replace('[','').replace(']','')\n",
    "    #print(f'{word} T:{type(arabic_words)} arabic: {arabic_words} l:{len(arabic_words)} ls: {len(arabic_words.split())}')\n",
    "    if(arabic_words!='[]'):\n",
    "        for arabic_word in arabic_words.split():\n",
    "            exclude_words_arabic.append(arabic_word.strip(\"'\"))\n",
    "            \n",
    "exclude_words_arabic=np.unique(exclude_words_arabic)"
   ]
  },
  {
   "cell_type": "markdown",
   "metadata": {},
   "source": [
    "Let's start Turkish wordcloud\n",
    "\n",
    "one image for every chapter, get all images from output path.\n",
    "plt code blok"
   ]
  },
  {
   "cell_type": "code",
   "execution_count": null,
   "metadata": {},
   "outputs": [],
   "source": [
    "verses = {}\n",
    "for i in range(1,115):\n",
    "    verses[str(i)] = \" \".join('' if mean in (exclude_words) else mean for mean in dfMerge[dfMerge['SURAH']==i]['MEANING_GROUP'])\n",
    "\n",
    "for key in verses.keys():\n",
    "    print(dfChapter.loc[int(key)-1]['TITLE'])\n",
    "    wordcloud = WordCloud(background_color='black', width=800, height=800).generate(verses[key])\n",
    "    plt.figure( figsize=(20,10) )\n",
    "    plt.imshow(wordcloud)\n",
    "    plt.axis('off')\n",
    "    plt.show()\n",
    "    \n",
    "    \"\"\"filename=\"/img/turkish/\"+key+'-'+dfChapter.loc[int(key)-1]['TITLE']+'.png'\n",
    "    wordcloud.to_file(filename)\"\"\""
   ]
  },
  {
   "cell_type": "markdown",
   "metadata": {},
   "source": [
    "For arabic character, use font file"
   ]
  },
  {
   "cell_type": "code",
   "execution_count": 23,
   "metadata": {},
   "outputs": [
    {
     "name": "stdout",
     "output_type": "stream",
     "text": [
      "Collecting package metadata (current_repodata.json): ...working... done\n",
      "Solving environment: ...working... failed with initial frozen solve. Retrying with flexible solve.\n",
      "Solving environment: ...working... failed with repodata from current_repodata.json, will retry with next repodata source.\n",
      "Collecting package metadata (repodata.json): ...working... done\n",
      "Solving environment: ...working... failed with initial frozen solve. Retrying with flexible solve.\n",
      "Solving environment: ...working... \n",
      "Found conflicts! Looking for incompatible packages.\n",
      "This can take several minutes.  Press CTRL-C to abort.\n",
      "failed\n"
     ]
    },
    {
     "name": "stderr",
     "output_type": "stream",
     "text": [
      "\n",
      "Building graph of deps:   0%|          | 0/2 [00:00<?, ?it/s]\n",
      "Examining arabic-reshaper:   0%|          | 0/2 [00:00<?, ?it/s]\n",
      "Examining python=3.7:  50%|#####     | 1/2 [00:00<00:00, 28.67it/s]\n",
      "                                                                   \n",
      "\n",
      "Determining conflicts:   0%|          | 0/2 [00:00<?, ?it/s]\n",
      "Examining conflict for arabic-reshaper python:   0%|          | 0/2 [00:00<?, ?it/s]\n",
      "                                                                                    \n",
      "\n",
      "UnsatisfiableError: The following specifications were found to be incompatible with each other:\n",
      "\n",
      "Output in format: Requested package -> Available versions\n",
      "\n",
      "\n",
      "PackagesNotFoundError: The following packages are not available from current channels:\n",
      "\n",
      "  - python-bidi\n",
      "\n",
      "Current channels:\n",
      "\n",
      "  - https://repo.anaconda.com/pkgs/main/win-64\n",
      "  - https://repo.anaconda.com/pkgs/main/noarch\n",
      "  - https://repo.anaconda.com/pkgs/r/win-64\n"
     ]
    },
    {
     "name": "stdout",
     "output_type": "stream",
     "text": [
      "Collecting package metadata (current_repodata.json): ...working... done\n",
      "Solving environment: ...working... failed with initial frozen solve. Retrying with flexible solve.\n",
      "Collecting package metadata (repodata.json): ...working... done\n",
      "Solving environment: ...working... failed with initial frozen solve. Retrying with flexible solve."
     ]
    },
    {
     "name": "stderr",
     "output_type": "stream",
     "text": [
      "  - https://repo.anaconda.com/pkgs/r/noarch\n",
      "  - https://repo.anaconda.com/pkgs/msys2/win-64\n",
      "  - https://repo.anaconda.com/pkgs/msys2/noarch\n",
      "\n",
      "To search for alternate channels that may provide the conda package you're\n",
      "looking for, navigate to\n",
      "\n",
      "    https://anaconda.org\n",
      "\n",
      "and use the search bar at the top of the page.\n",
      "\n",
      "\n"
     ]
    }
   ],
   "source": [
    "!conda install -c mpcabd arabic-reshaper\n",
    "!conda install python-bidi"
   ]
  },
  {
   "cell_type": "code",
   "execution_count": 24,
   "metadata": {},
   "outputs": [
    {
     "name": "stdout",
     "output_type": "stream",
     "text": [
      "\n",
      "Requirement already satisfied: arabic_reshaper in c:\\users\\tuba.demir2\\miniconda3\\lib\\site-packages (2.1.0)\n",
      "Requirement already satisfied: setuptools in c:\\users\\tuba.demir2\\miniconda3\\lib\\site-packages (from arabic_reshaper) (46.4.0.post20200518)\n",
      "Requirement already satisfied: future in c:\\users\\tuba.demir2\\miniconda3\\lib\\site-packages (from arabic_reshaper) (0.18.2)\n",
      "Requirement already satisfied: python-bidi in c:\\users\\tuba.demir2\\miniconda3\\lib\\site-packages (0.4.2)\n",
      "Requirement already satisfied: six in c:\\users\\tuba.demir2\\miniconda3\\lib\\site-packages (from python-bidi) (1.14.0)\n"
     ]
    }
   ],
   "source": [
    "!pip install arabic_reshaper\n",
    "!pip install python-bidi\n"
   ]
  },
  {
   "cell_type": "code",
   "execution_count": 25,
   "metadata": {},
   "outputs": [
    {
     "ename": "ModuleNotFoundError",
     "evalue": "No module named 'arabic_reshaper'",
     "output_type": "error",
     "traceback": [
      "\u001b[1;31m---------------------------------------------------------------------------\u001b[0m",
      "\u001b[1;31mModuleNotFoundError\u001b[0m                       Traceback (most recent call last)",
      "\u001b[1;32m<ipython-input-25-d1aab2e57df3>\u001b[0m in \u001b[0;36m<module>\u001b[1;34m\u001b[0m\n\u001b[1;32m----> 1\u001b[1;33m \u001b[1;32mimport\u001b[0m \u001b[0marabic_reshaper\u001b[0m\u001b[1;33m\u001b[0m\u001b[1;33m\u001b[0m\u001b[0m\n\u001b[0m\u001b[0;32m      2\u001b[0m \u001b[1;32mfrom\u001b[0m \u001b[0mbidi\u001b[0m\u001b[1;33m.\u001b[0m\u001b[0malgorithm\u001b[0m \u001b[1;32mimport\u001b[0m \u001b[0mget_display\u001b[0m\u001b[1;33m\u001b[0m\u001b[1;33m\u001b[0m\u001b[0m\n\u001b[0;32m      3\u001b[0m \u001b[0mverses_arabic\u001b[0m \u001b[1;33m=\u001b[0m \u001b[1;33m{\u001b[0m\u001b[1;33m}\u001b[0m\u001b[1;33m\u001b[0m\u001b[1;33m\u001b[0m\u001b[0m\n\u001b[0;32m      4\u001b[0m \u001b[1;32mfrom\u001b[0m \u001b[0mwordcloud\u001b[0m \u001b[1;32mimport\u001b[0m \u001b[0mWordCloud\u001b[0m\u001b[1;33m\u001b[0m\u001b[1;33m\u001b[0m\u001b[0m\n\u001b[0;32m      5\u001b[0m \u001b[0mfont_file\u001b[0m\u001b[1;33m=\u001b[0m\u001b[1;34m'./NotoNaskhArabic-Regular.ttf'\u001b[0m\u001b[1;33m\u001b[0m\u001b[1;33m\u001b[0m\u001b[0m\n",
      "\u001b[1;31mModuleNotFoundError\u001b[0m: No module named 'arabic_reshaper'"
     ]
    }
   ],
   "source": [
    "import arabic_reshaper\n",
    "from bidi.algorithm import get_display\n",
    "verses_arabic = {}\n",
    "from wordcloud import WordCloud\n",
    "font_file='./NotoNaskhArabic-Regular.ttf'"
   ]
  },
  {
   "cell_type": "code",
   "execution_count": null,
   "metadata": {},
   "outputs": [],
   "source": [
    "for i in range(1,115):\n",
    "    verses_arabic[str(i)] = \" \".join('' if root in (exclude_words_arabic) else root for root in dfMerge[dfMerge['SURAH']==i]['BRX_ROOT'])\n",
    "    verses_arabic[str(i)]= arabic_reshaper.reshape(verses_arabic[str(i)] )\n",
    "    verses_arabic[str(i)]= get_display(verses_arabic[str(i)])\n",
    "\n",
    "for key in verses_arabic.keys():\n",
    "    print(dfChapter.loc[int(key)-1]['TITLE'])\n",
    "    wordcloud = WordCloud(font_path=font_file, background_color='black', width=800, height=800).generate(verses_arabic[key])\n",
    "    plt.figure( figsize=(20,10) )\n",
    "    plt.imshow(wordcloud)\n",
    "    plt.axis('off')\n",
    "    plt.show()\n",
    "    #filename=\"./img/arabic/\"+key+'-'+dfChapter.loc[int(key)-1]['TITLE']+'.png'\n",
    "    #wordcloud.to_file(filename)"
   ]
  },
  {
   "cell_type": "markdown",
   "metadata": {},
   "source": [
    "**Study for theme** The book: **Mehdi Bezirgan:** Kur'an'ın Nüzul Süreci"
   ]
  },
  {
   "cell_type": "code",
   "execution_count": 26,
   "metadata": {},
   "outputs": [
    {
     "data": {
      "text/html": [
       "<div>\n",
       "<style scoped>\n",
       "    .dataframe tbody tr th:only-of-type {\n",
       "        vertical-align: middle;\n",
       "    }\n",
       "\n",
       "    .dataframe tbody tr th {\n",
       "        vertical-align: top;\n",
       "    }\n",
       "\n",
       "    .dataframe thead th {\n",
       "        text-align: right;\n",
       "    }\n",
       "</style>\n",
       "<table border=\"1\" class=\"dataframe\">\n",
       "  <thead>\n",
       "    <tr style=\"text-align: right;\">\n",
       "      <th></th>\n",
       "      <th></th>\n",
       "      <th>YEAR</th>\n",
       "      <th>PLACE</th>\n",
       "      <th>REVOLUTION</th>\n",
       "      <th>TITLE</th>\n",
       "      <th>EXCLUDES</th>\n",
       "      <th>GRUP</th>\n",
       "      <th>THEME</th>\n",
       "    </tr>\n",
       "    <tr>\n",
       "      <th>SURAH</th>\n",
       "      <th>VERSES</th>\n",
       "      <th></th>\n",
       "      <th></th>\n",
       "      <th></th>\n",
       "      <th></th>\n",
       "      <th></th>\n",
       "      <th></th>\n",
       "      <th></th>\n",
       "    </tr>\n",
       "  </thead>\n",
       "  <tbody>\n",
       "    <tr>\n",
       "      <th>96</th>\n",
       "      <th>1-5</th>\n",
       "      <td>1</td>\n",
       "      <td>Mekke</td>\n",
       "      <td>1</td>\n",
       "      <td>Alak</td>\n",
       "      <td>1-5</td>\n",
       "      <td>Hz. Peygamber’in risâleti</td>\n",
       "      <td>Vahyin başlangıcı</td>\n",
       "    </tr>\n",
       "    <tr>\n",
       "      <th>74</th>\n",
       "      <th>1-7</th>\n",
       "      <td>1</td>\n",
       "      <td>Mekke</td>\n",
       "      <td>2</td>\n",
       "      <td>Müddessir</td>\n",
       "      <td>1-7</td>\n",
       "      <td>Hz. Peygamber’in risâleti</td>\n",
       "      <td>Tebliğ görevinin verilişi</td>\n",
       "    </tr>\n",
       "    <tr>\n",
       "      <th>103</th>\n",
       "      <th>1-2</th>\n",
       "      <td>1</td>\n",
       "      <td>Mekke</td>\n",
       "      <td>3</td>\n",
       "      <td>Asr</td>\n",
       "      <td>1-2</td>\n",
       "      <td>İnsanın yaratılışı ve özellikleri şeytan ve ci...</td>\n",
       "      <td>İnsanların hüsranı</td>\n",
       "    </tr>\n",
       "    <tr>\n",
       "      <th>51</th>\n",
       "      <th>1-6</th>\n",
       "      <td>1</td>\n",
       "      <td>Mekke</td>\n",
       "      <td>4</td>\n",
       "      <td>Zâriyât</td>\n",
       "      <td>1-6</td>\n",
       "      <td>Kıyamet ölüm ve ahiret</td>\n",
       "      <td>Kıyamet tasviri</td>\n",
       "    </tr>\n",
       "    <tr>\n",
       "      <th>102</th>\n",
       "      <th>1-2</th>\n",
       "      <td>1</td>\n",
       "      <td>Mekke</td>\n",
       "      <td>5</td>\n",
       "      <td>Tekâsür</td>\n",
       "      <td>1-2</td>\n",
       "      <td>İnsanın yaratılışı ve özellikleri şeytan ve ci...</td>\n",
       "      <td>İnsanın tamahkârlığı</td>\n",
       "    </tr>\n",
       "  </tbody>\n",
       "</table>\n",
       "</div>"
      ],
      "text/plain": [
       "              YEAR  PLACE  REVOLUTION      TITLE EXCLUDES  \\\n",
       "SURAH VERSES                                                \n",
       "96    1-5        1  Mekke           1       Alak      1-5   \n",
       "74    1-7        1  Mekke           2  Müddessir      1-7   \n",
       "103   1-2        1  Mekke           3        Asr      1-2   \n",
       "51    1-6        1  Mekke           4    Zâriyât      1-6   \n",
       "102   1-2        1  Mekke           5    Tekâsür      1-2   \n",
       "\n",
       "                                                           GRUP  \\\n",
       "SURAH VERSES                                                      \n",
       "96    1-5                             Hz. Peygamber’in risâleti   \n",
       "74    1-7                             Hz. Peygamber’in risâleti   \n",
       "103   1-2     İnsanın yaratılışı ve özellikleri şeytan ve ci...   \n",
       "51    1-6                                Kıyamet ölüm ve ahiret   \n",
       "102   1-2     İnsanın yaratılışı ve özellikleri şeytan ve ci...   \n",
       "\n",
       "                                  THEME  \n",
       "SURAH VERSES                             \n",
       "96    1-5             Vahyin başlangıcı  \n",
       "74    1-7     Tebliğ görevinin verilişi  \n",
       "103   1-2            İnsanların hüsranı  \n",
       "51    1-6               Kıyamet tasviri  \n",
       "102   1-2          İnsanın tamahkârlığı  "
      ]
     },
     "execution_count": 26,
     "metadata": {},
     "output_type": "execute_result"
    }
   ],
   "source": [
    "dfThemes=pd.read_excel(\"./Themes.xlsx\", index_col=[3,5]) #SURAH ndx and VERSES info index..\n",
    "dfThemes.head()"
   ]
  },
  {
   "cell_type": "code",
   "execution_count": 27,
   "metadata": {},
   "outputs": [],
   "source": [
    "dfSurahVerses  ={}\n",
    "excludedlist=[]\n",
    "def parse_str_interval(str) :\n",
    "    parse_list=[]\n",
    "    for part in str.split(','):\n",
    "        if(part.find('-')>=0) :\n",
    "            start,finish=part.split('-')\n",
    "            for i in range(int(start),int(finish)+1) :\n",
    "                parse_list.append(i)\n",
    "        else:\n",
    "            parse_list.append(int(part))\n",
    "    return parse_list\n",
    "                    \n",
    "for index, row in dfThemes.iterrows():\n",
    "    verses=index[1].replace(' ','').replace(')','')\n",
    "    if(verses=='Tamamı') :\n",
    "        verses_count=(dfChapter.loc[index[0]-1]['VERSE_COUNT'])\n",
    "        for i in range(1,verses_count+1) :\n",
    "            dfSurahVerses[index[0],i]=row\n",
    "    else:\n",
    "        verse_list=parse_str_interval(verses)\n",
    "        excluded_list=parse_str_interval(row['EXCLUDES'])        \n",
    "        for verse_part in verse_list:\n",
    "            if(verse_part not in excludedlist) :\n",
    "                dfSurahVerses[index[0],verse_part]=row"
   ]
  },
  {
   "cell_type": "code",
   "execution_count": 28,
   "metadata": {},
   "outputs": [
    {
     "name": "stdout",
     "output_type": "stream",
     "text": [
      "<class 'pandas.core.frame.DataFrame'>\n",
      "MultiIndex: 6134 entries, (96, 1) to (5, 9)\n",
      "Data columns (total 7 columns):\n",
      " #   Column      Non-Null Count  Dtype \n",
      "---  ------      --------------  ----- \n",
      " 0   YEAR        6134 non-null   int64 \n",
      " 1   PLACE       6134 non-null   object\n",
      " 2   REVOLUTION  6134 non-null   int64 \n",
      " 3   TITLE       6134 non-null   object\n",
      " 4   EXCLUDES    6134 non-null   object\n",
      " 5   GRUP        6134 non-null   object\n",
      " 6   THEME       6134 non-null   object\n",
      "dtypes: int64(2), object(5)\n",
      "memory usage: 236.8+ KB\n",
      "None\n"
     ]
    }
   ],
   "source": [
    "dfSurahVerses=pd.DataFrame.from_dict(dfSurahVerses, orient='index')\n",
    "print(dfSurahVerses.info())"
   ]
  },
  {
   "cell_type": "code",
   "execution_count": 29,
   "metadata": {},
   "outputs": [
    {
     "name": "stderr",
     "output_type": "stream",
     "text": [
      "C:\\Users\\tuba.demir2\\AppData\\Local\\Programs\\Python\\Python38-32\\lib\\site-packages\\seaborn\\axisgrid.py:856: UserWarning: Tight layout not applied. The left and right margins cannot be made large enough to accommodate all axes decorations. \n",
      "  self.fig.tight_layout()\n"
     ]
    },
    {
     "data": {
      "text/plain": [
       "<seaborn.axisgrid.FacetGrid at 0x559af88>"
      ]
     },
     "execution_count": 29,
     "metadata": {},
     "output_type": "execute_result"
    },
    {
     "data": {
      "image/png": "[encoded data removed]",
      "text/plain": [
       "<Figure size 423.805x360 with 1 Axes>"
      ]
     },
     "metadata": {
      "needs_background": "light"
     },
     "output_type": "display_data"
    }
   ],
   "source": [
    "import seaborn as sns\n",
    "sns.catplot(data=dfSurahVerses, x='YEAR', y='GRUP', hue='PLACE')"
   ]
  },
  {
   "cell_type": "code",
   "execution_count": 30,
   "metadata": {},
   "outputs": [
    {
     "data": {
      "image/png": "[encoded data removed]",
      "text/plain": [
       "<Figure size 432x288 with 2 Axes>"
      ]
     },
     "metadata": {
      "needs_background": "light"
     },
     "output_type": "display_data"
    }
   ],
   "source": [
    "sns.set_context(\"paper\")\n",
    "plt.scatter(dfSurahVerses['YEAR'], dfSurahVerses['GRUP'], c= [1 if x =='Medine' else 0 for x in dfSurahVerses['PLACE']] , alpha=0.2, cmap=\"viridis\")\n",
    "plt.colorbar(); \n",
    "ax.set_xlabel(\"YEAR\")\n",
    "ax.set_ylabel(\"Theme\")\n",
    "ax.set_title(\"Acc. Year Themes\")\n",
    "plt.show()"
   ]
  },
  {
   "cell_type": "code",
   "execution_count": null,
   "metadata": {},
   "outputs": [],
   "source": [
    "!pip install pandas plotnine"
   ]
  },
  {
   "cell_type": "code",
   "execution_count": null,
   "metadata": {},
   "outputs": [],
   "source": [
    "from plotnine import *\n",
    "\"\"\"facet_grid('PLACE',scales='free_x')+ \\ \"\"\"\n",
    "ggplot(dfSurahVerses, aes(x='YEAR', color='GRUP')) + \\\n",
    "    geom_line(stat = 'count') + \\\n",
    "    facet_wrap(['PLACE'],scales='free_y') \n",
    "#    flip_xlabels + \\v"
   ]
  },
  {
   "cell_type": "code",
   "execution_count": null,
   "metadata": {},
   "outputs": [],
   "source": [
    "import seaborn as sns\n",
    "g = sns.FacetGrid(dfSurahVerses, col=\"PLACE\", col_wrap=2, height=8, \n",
    "                  hue_order=[\"Mekke\", \"Medine\"],\n",
    "                  hue_kws=dict(marker=[\"^\", \"v\"]) )\n",
    "g = g.map(plt.plot, \"YEAR\",\"GRUP\")"
   ]
  },
  {
   "cell_type": "code",
   "execution_count": null,
   "metadata": {},
   "outputs": [],
   "source": [
    "ax = sns.swarmplot(y=\"GRUP\", x=\"YEAR\", hue=\"PLACE\", data=dfSurahVerses, palette=\"Set2\", dodge=True)"
   ]
  },
  {
   "cell_type": "code",
   "execution_count": null,
   "metadata": {},
   "outputs": [],
   "source": []
  }
 ],
 "metadata": {
  "kernelspec": {
   "display_name": "Python 3.8.3 32-bit",
   "language": "python",
   "name": "python38332bit74facea1a310476ca0c9492d821273ec"
  },
  "language_info": {
   "codemirror_mode": {
    "name": "ipython",
    "version": 3
   },
   "file_extension": ".py",
   "mimetype": "text/x-python",
   "name": "python",
   "nbconvert_exporter": "python",
   "pygments_lexer": "ipython3",
   "version": "3.8.3"
  }
 },
 "nbformat": 4,
 "nbformat_minor": 4
}
